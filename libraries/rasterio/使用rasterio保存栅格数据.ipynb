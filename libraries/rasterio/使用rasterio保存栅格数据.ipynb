{
 "cells": [
  {
   "cell_type": "markdown",
   "id": "02d94498",
   "metadata": {},
   "source": [
    "# 使用rasterio保存栅格数据"
   ]
  },
  {
   "cell_type": "markdown",
   "id": "04629536",
   "metadata": {},
   "source": [
    "## 1.保存\n",
    "- 使用open创建一个tif对象文件\n",
    "- 写入栅格\n",
    "- 同步到磁盘"
   ]
  },
  {
   "cell_type": "code",
   "execution_count": 36,
   "id": "c996af2b",
   "metadata": {},
   "outputs": [],
   "source": [
    "import rasterio\n",
    "import rasterio.transform\n",
    "# 地理信息：假设影像左上角是 (经度=120, 纬度=30)，像素大小为 0.01 度\n",
    "transform = rasterio.transform.from_origin(west=120.0, north=30.0, xsize=0.00001, ysize=0.00001)\n",
    "dataset = rasterio.open('temp1.tif', mode='w',driver='GTiff',height=1000, width=1000, count=3,dtype='uint8',crs='EPSG:4326',transform=transform)"
   ]
  },
  {
   "cell_type": "code",
   "execution_count": null,
   "id": "41e82032",
   "metadata": {},
   "outputs": [],
   "source": [
    "# 单波段写入\n",
    "import numpy as np\n",
    "array = np.zeros((1000,1000),np.int8)\n",
    "dataset.write(array,1)"
   ]
  },
  {
   "cell_type": "code",
   "execution_count": 38,
   "id": "cd33aeed",
   "metadata": {},
   "outputs": [],
   "source": [
    "# 多波段写入\n",
    "import numpy as np\n",
    "array = np.random.randint(0,256,(3,1000,1000),np.uint8)\n",
    "dataset.write(array)"
   ]
  },
  {
   "cell_type": "code",
   "execution_count": 39,
   "id": "fc784e83",
   "metadata": {},
   "outputs": [],
   "source": [
    "dataset.close()"
   ]
  },
  {
   "cell_type": "code",
   "execution_count": 31,
   "id": "e076156f",
   "metadata": {},
   "outputs": [
    {
     "data": {
      "text/plain": [
       "Affine(1e-05, 0.0, 120.0,\n",
       "       0.0, -1e-05, 30.0)"
      ]
     },
     "execution_count": 31,
     "metadata": {},
     "output_type": "execute_result"
    }
   ],
   "source": [
    "transform"
   ]
  }
 ],
 "metadata": {
  "kernelspec": {
   "display_name": "skimage",
   "language": "python",
   "name": "python3"
  },
  "language_info": {
   "codemirror_mode": {
    "name": "ipython",
    "version": 3
   },
   "file_extension": ".py",
   "mimetype": "text/x-python",
   "name": "python",
   "nbconvert_exporter": "python",
   "pygments_lexer": "ipython3",
   "version": "3.10.15"
  }
 },
 "nbformat": 4,
 "nbformat_minor": 5
}

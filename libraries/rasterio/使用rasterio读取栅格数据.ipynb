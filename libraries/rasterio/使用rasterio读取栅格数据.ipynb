{
 "cells": [
  {
   "cell_type": "markdown",
   "id": "ed38c99a",
   "metadata": {},
   "source": [
    "# 使用rasterio读取tif数据\n"
   ]
  },
  {
   "cell_type": "markdown",
   "id": "81d300c0",
   "metadata": {},
   "source": []
  },
  {
   "cell_type": "markdown",
   "id": "0f741ecd",
   "metadata": {},
   "source": [
    "## 1.读取单波段数据\n",
    "- 准备数据路径\n",
    "- 查看相关属性"
   ]
  },
  {
   "cell_type": "markdown",
   "id": "3e519c2e",
   "metadata": {},
   "source": [
    "### 1.1 打开tif数据"
   ]
  },
  {
   "cell_type": "code",
   "execution_count": 1,
   "id": "0aa48373",
   "metadata": {},
   "outputs": [
    {
     "data": {
      "text/plain": [
       "<open DatasetReader name='results\\output_edge_norm_sanbaoxiang.tif' mode='r'>"
      ]
     },
     "execution_count": 1,
     "metadata": {},
     "output_type": "execute_result"
    }
   ],
   "source": [
    "import rasterio\n",
    "\n",
    "dataset = rasterio.open(r'results\\output_edge_norm_sanbaoxiang.tif')\n",
    "dataset"
   ]
  },
  {
   "cell_type": "markdown",
   "id": "31f3b52a",
   "metadata": {},
   "source": [
    "- 使用`rasterio.open()`打开一个栅格文件时，返回的是一个`DataserReader`实例\n",
    "- 该实例是`rasterio.io.DatasetReader`类的实例，该类有很多属性和方法，可以进一步读取栅格的数据和元信息"
   ]
  },
  {
   "cell_type": "code",
   "execution_count": 2,
   "id": "a49f7da2",
   "metadata": {},
   "outputs": [
    {
     "name": "stdout",
     "output_type": "stream",
     "text": [
      "<class 'rasterio.io.DatasetReader'>\n"
     ]
    }
   ],
   "source": [
    "print(type(dataset))"
   ]
  },
  {
   "cell_type": "code",
   "execution_count": null,
   "id": "e6e55c6c",
   "metadata": {},
   "outputs": [
    {
     "data": {
      "text/plain": [
       "1"
      ]
     },
     "execution_count": 4,
     "metadata": {},
     "output_type": "execute_result"
    }
   ],
   "source": [
    "# 常用属性：波段数 int\n",
    "dataset.count"
   ]
  },
  {
   "cell_type": "code",
   "execution_count": null,
   "id": "1830c886",
   "metadata": {},
   "outputs": [
    {
     "data": {
      "text/plain": [
       "(13267, 13592)"
      ]
     },
     "execution_count": 6,
     "metadata": {},
     "output_type": "execute_result"
    }
   ],
   "source": [
    "# 常用属性：行(高) 列(宽) int\n",
    "dataset.height, dataset.width"
   ]
  },
  {
   "cell_type": "code",
   "execution_count": 55,
   "id": "f78fd38d",
   "metadata": {},
   "outputs": [
    {
     "data": {
      "text/plain": [
       "(13267, 13592)"
      ]
     },
     "execution_count": 55,
     "metadata": {},
     "output_type": "execute_result"
    }
   ],
   "source": [
    "# 常用属性：shape tuple(int)\n",
    "dataset.shape"
   ]
  },
  {
   "cell_type": "code",
   "execution_count": 85,
   "id": "fe9875c0",
   "metadata": {},
   "outputs": [
    {
     "data": {
      "text/plain": [
       "255.0"
      ]
     },
     "execution_count": 85,
     "metadata": {},
     "output_type": "execute_result"
    }
   ],
   "source": [
    "# 常用属性：无数据值\n",
    "dataset.nodata "
   ]
  },
  {
   "cell_type": "code",
   "execution_count": null,
   "id": "20dad8af",
   "metadata": {},
   "outputs": [
    {
     "data": {
      "text/plain": [
       "BoundingBox(left=119.10930549419714, bottom=33.379654547232896, right=119.20716789419714, top=33.475176947232896)"
      ]
     },
     "execution_count": 7,
     "metadata": {},
     "output_type": "execute_result"
    }
   ],
   "source": [
    "# 常用属性：范围 tuple(float)\n",
    "dataset.bounds"
   ]
  },
  {
   "cell_type": "code",
   "execution_count": 18,
   "id": "e2717a8e",
   "metadata": {},
   "outputs": [
    {
     "data": {
      "text/plain": [
       "(rasterio.coords.BoundingBox, tuple, object)"
      ]
     },
     "execution_count": 18,
     "metadata": {},
     "output_type": "execute_result"
    }
   ],
   "source": [
    "# 继承自ruple.查看继承链\n",
    "type(dataset.bounds).__mro__"
   ]
  },
  {
   "cell_type": "code",
   "execution_count": 15,
   "id": "8c2293c8",
   "metadata": {},
   "outputs": [
    {
     "data": {
      "text/plain": [
       "33.475176947232896"
      ]
     },
     "execution_count": 15,
     "metadata": {},
     "output_type": "execute_result"
    }
   ],
   "source": [
    "dataset.bounds[3]"
   ]
  },
  {
   "cell_type": "code",
   "execution_count": null,
   "id": "9aa32808",
   "metadata": {},
   "outputs": [
    {
     "data": {
      "text/plain": [
       "CRS.from_epsg(4326)"
      ]
     },
     "execution_count": 19,
     "metadata": {},
     "output_type": "execute_result"
    }
   ],
   "source": [
    "# 常用属性：坐标参考系 rasterio.crs.CRS\n",
    "dataset.crs"
   ]
  },
  {
   "cell_type": "code",
   "execution_count": 21,
   "id": "08b82557",
   "metadata": {},
   "outputs": [
    {
     "data": {
      "text/plain": [
       "(rasterio.crs.CRS, object)"
      ]
     },
     "execution_count": 21,
     "metadata": {},
     "output_type": "execute_result"
    }
   ],
   "source": [
    "type(dataset.crs).__mro__"
   ]
  },
  {
   "cell_type": "code",
   "execution_count": null,
   "id": "d153cb60",
   "metadata": {},
   "outputs": [
    {
     "data": {
      "text/plain": [
       "Affine(7.199999999999764e-06, 0.0, 119.10930549419714,\n",
       "       0.0, -7.200000000000009e-06, 33.475176947232896)"
      ]
     },
     "execution_count": 47,
     "metadata": {},
     "output_type": "execute_result"
    }
   ],
   "source": [
    "# 常用属性：transform tuple(float)\n",
    "# (横向分辨率, 旋转参数，起点经度，旋转参数，-纵向分辨率，起点纬度)\n",
    "# (a, b, c, d, e, f)\n",
    "dataset.transform"
   ]
  },
  {
   "cell_type": "markdown",
   "id": "7e930002",
   "metadata": {},
   "source": [
    "- 仿射变换\n",
    "$$\n",
    "\\begin{pmatrix}\n",
    "x' \\\\\n",
    "y' \\\\\n",
    "1\n",
    "\\end{pmatrix}\n",
    "=\n",
    "\\begin{pmatrix}\n",
    "a & b & c \\\\\n",
    "d & e & f \\\\\n",
    "0 & 0 & 1\n",
    "\\end{pmatrix}\n",
    "\\cdot\n",
    "\\begin{pmatrix}\n",
    "x \\\\\n",
    "y \\\\\n",
    "1\n",
    "\\end{pmatrix}\n",
    "$$\n"
   ]
  },
  {
   "cell_type": "code",
   "execution_count": 49,
   "id": "fca44930",
   "metadata": {},
   "outputs": [
    {
     "data": {
      "text/plain": [
       "(affine.Affine, affine.Affine, tuple, object)"
      ]
     },
     "execution_count": 49,
     "metadata": {},
     "output_type": "execute_result"
    }
   ],
   "source": [
    "type(dataset.transform).__mro__"
   ]
  },
  {
   "cell_type": "code",
   "execution_count": null,
   "id": "14b18ef8",
   "metadata": {},
   "outputs": [
    {
     "data": {
      "text/plain": [
       "'GTiff'"
      ]
     },
     "execution_count": 38,
     "metadata": {},
     "output_type": "execute_result"
    }
   ],
   "source": [
    "# 常用属性：GDAL格式驱动 str\n",
    "dataset.driver"
   ]
  },
  {
   "cell_type": "code",
   "execution_count": null,
   "id": "e2fd83a6",
   "metadata": {},
   "outputs": [
    {
     "data": {
      "text/plain": [
       "('uint8',)"
      ]
     },
     "execution_count": 41,
     "metadata": {},
     "output_type": "execute_result"
    }
   ],
   "source": [
    "# 常用属性：数据类型 tupel(str)\n",
    "dataset.dtypes"
   ]
  },
  {
   "cell_type": "code",
   "execution_count": null,
   "id": "ab1d3854",
   "metadata": {},
   "outputs": [
    {
     "data": {
      "text/plain": [
       "<Compression.lzw: 'LZW'>"
      ]
     },
     "execution_count": 42,
     "metadata": {},
     "output_type": "execute_result"
    }
   ],
   "source": [
    "# 常用属性：压缩 枚举类型enum.Enum(str)\n",
    "dataset.compression"
   ]
  },
  {
   "cell_type": "code",
   "execution_count": 43,
   "id": "086a9885",
   "metadata": {},
   "outputs": [
    {
     "data": {
      "text/plain": [
       "<enum 'Compression'>"
      ]
     },
     "execution_count": 43,
     "metadata": {},
     "output_type": "execute_result"
    }
   ],
   "source": [
    "type(dataset.compression)"
   ]
  },
  {
   "cell_type": "code",
   "execution_count": null,
   "id": "926d98e3",
   "metadata": {},
   "outputs": [
    {
     "data": {
      "text/plain": [
       "((1.0,), (0.0,))"
      ]
     },
     "execution_count": 46,
     "metadata": {},
     "output_type": "execute_result"
    }
   ],
   "source": [
    "# 常用属性：scales 和 offsets tuple(float)\n",
    "# 为了存储方便，对原始物理量进行缩放和便宜，实际物理意义的值 = 原始像素值 × scale + offset\n",
    "dataset.scales, dataset.offsets"
   ]
  },
  {
   "cell_type": "code",
   "execution_count": null,
   "id": "649b0590",
   "metadata": {},
   "outputs": [
    {
     "name": "stdout",
     "output_type": "stream",
     "text": [
      "['results\\\\output_edge_norm_sanbaoxiang.tif', 'results\\\\output_edge_norm_sanbaoxiang.tif.aux.xml']\n",
      "[(128, 128)]\n",
      "results\\output_edge_norm_sanbaoxiang.tif\n",
      "r\n",
      "False\n",
      "(1,)\n"
     ]
    }
   ],
   "source": [
    "# 不常用属性：\n",
    "print(dataset.files)  # 文件包括附属文件 list[str]\n",
    "print(dataset.block_shapes)  # 存储块的大小 list[tuple(int)]\n",
    "print(dataset.name)  # 文件名带猴嘴 str\n",
    "print(dataset.mode)  # 读取模式 str\n",
    "print(dataset.closed)  # 开关状态 bool\n",
    "print(dataset.indexes)  # 波段索引 tuple(int)"
   ]
  },
  {
   "cell_type": "code",
   "execution_count": 66,
   "id": "a85d394c",
   "metadata": {},
   "outputs": [
    {
     "data": {
      "text/plain": [
       "tuple"
      ]
     },
     "execution_count": 66,
     "metadata": {},
     "output_type": "execute_result"
    }
   ],
   "source": [
    "type(dataset.indexes)"
   ]
  },
  {
   "cell_type": "markdown",
   "id": "8c869481",
   "metadata": {},
   "source": [
    "### 1.2 读取数组"
   ]
  },
  {
   "cell_type": "code",
   "execution_count": null,
   "id": "83c41a82",
   "metadata": {},
   "outputs": [
    {
     "data": {
      "text/plain": [
       "array([[0, 0, 0, ..., 0, 0, 0],\n",
       "       [0, 0, 0, ..., 0, 0, 0],\n",
       "       [0, 0, 0, ..., 0, 0, 0],\n",
       "       ...,\n",
       "       [0, 0, 0, ..., 0, 0, 0],\n",
       "       [0, 0, 0, ..., 0, 0, 0],\n",
       "       [0, 0, 0, ..., 0, 0, 0]], dtype=uint8)"
      ]
     },
     "execution_count": 68,
     "metadata": {},
     "output_type": "execute_result"
    }
   ],
   "source": [
    "dataset.read(dataset.indexes[0])  # 返回第一个波段的数组 nunpy.ndarray"
   ]
  },
  {
   "cell_type": "code",
   "execution_count": 71,
   "id": "230552ec",
   "metadata": {},
   "outputs": [
    {
     "data": {
      "text/plain": [
       "array([[[0, 0, 0, ..., 0, 0, 0],\n",
       "        [0, 0, 0, ..., 0, 0, 0],\n",
       "        [0, 0, 0, ..., 0, 0, 0],\n",
       "        ...,\n",
       "        [0, 0, 0, ..., 0, 0, 0],\n",
       "        [0, 0, 0, ..., 0, 0, 0],\n",
       "        [0, 0, 0, ..., 0, 0, 0]]], dtype=uint8)"
      ]
     },
     "execution_count": 71,
     "metadata": {},
     "output_type": "execute_result"
    }
   ],
   "source": [
    "dataset.read()"
   ]
  },
  {
   "cell_type": "markdown",
   "id": "9ac5dbb3",
   "metadata": {},
   "source": [
    "### 1.3 空间索引\n"
   ]
  },
  {
   "cell_type": "code",
   "execution_count": null,
   "id": "06f17398",
   "metadata": {},
   "outputs": [
    {
     "data": {
      "text/plain": [
       "(6633, 6796)"
      ]
     },
     "execution_count": 77,
     "metadata": {},
     "output_type": "execute_result"
    }
   ],
   "source": [
    "# 由地理位置得到像素行列  tuple(int)\n",
    "dataset.index(119.15824029419714, 33.4274157472329)\n"
   ]
  },
  {
   "cell_type": "code",
   "execution_count": null,
   "id": "53528573",
   "metadata": {},
   "outputs": [
    {
     "data": {
      "text/plain": [
       "(119.15824029419714, 33.4274157472329)"
      ]
     },
     "execution_count": 75,
     "metadata": {},
     "output_type": "execute_result"
    }
   ],
   "source": [
    "# 由像素行列得到地理坐标 tuple(float)\n",
    "dataset.xy(dataset.height // 2, dataset.width // 2)"
   ]
  },
  {
   "cell_type": "markdown",
   "id": "66bf444a",
   "metadata": {},
   "source": [
    "## 2.多波段的读取\n",
    "- 主要看看read函数能直接读取吗"
   ]
  },
  {
   "cell_type": "code",
   "execution_count": 93,
   "id": "430d2117",
   "metadata": {},
   "outputs": [],
   "source": [
    "dataset = rasterio.open(r\"D:\\siwei_work\\2025nongyezu\\cropland_dl\\data\\js2025已修改tif\\林集镇.tif\")"
   ]
  },
  {
   "cell_type": "code",
   "execution_count": null,
   "id": "4b102a03",
   "metadata": {},
   "outputs": [
    {
     "data": {
      "text/plain": [
       "masked_array(\n",
       "  data=[[[--, --, --, ..., --, --, --],\n",
       "         [--, --, --, ..., --, --, --],\n",
       "         [--, --, --, ..., --, --, --],\n",
       "         ...,\n",
       "         [--, --, --, ..., --, --, --],\n",
       "         [--, --, --, ..., --, --, --],\n",
       "         [--, --, --, ..., --, --, --]],\n",
       "\n",
       "        [[--, --, --, ..., --, --, --],\n",
       "         [--, --, --, ..., --, --, --],\n",
       "         [--, --, --, ..., --, --, --],\n",
       "         ...,\n",
       "         [--, --, --, ..., --, --, --],\n",
       "         [--, --, --, ..., --, --, --],\n",
       "         [--, --, --, ..., --, --, --]],\n",
       "\n",
       "        [[--, --, --, ..., --, --, --],\n",
       "         [--, --, --, ..., --, --, --],\n",
       "         [--, --, --, ..., --, --, --],\n",
       "         ...,\n",
       "         [--, --, --, ..., --, --, --],\n",
       "         [--, --, --, ..., --, --, --],\n",
       "         [--, --, --, ..., --, --, --]]],\n",
       "  mask=[[[ True,  True,  True, ...,  True,  True,  True],\n",
       "         [ True,  True,  True, ...,  True,  True,  True],\n",
       "         [ True,  True,  True, ...,  True,  True,  True],\n",
       "         ...,\n",
       "         [ True,  True,  True, ...,  True,  True,  True],\n",
       "         [ True,  True,  True, ...,  True,  True,  True],\n",
       "         [ True,  True,  True, ...,  True,  True,  True]],\n",
       "\n",
       "        [[ True,  True,  True, ...,  True,  True,  True],\n",
       "         [ True,  True,  True, ...,  True,  True,  True],\n",
       "         [ True,  True,  True, ...,  True,  True,  True],\n",
       "         ...,\n",
       "         [ True,  True,  True, ...,  True,  True,  True],\n",
       "         [ True,  True,  True, ...,  True,  True,  True],\n",
       "         [ True,  True,  True, ...,  True,  True,  True]],\n",
       "\n",
       "        [[ True,  True,  True, ...,  True,  True,  True],\n",
       "         [ True,  True,  True, ...,  True,  True,  True],\n",
       "         [ True,  True,  True, ...,  True,  True,  True],\n",
       "         ...,\n",
       "         [ True,  True,  True, ...,  True,  True,  True],\n",
       "         [ True,  True,  True, ...,  True,  True,  True],\n",
       "         [ True,  True,  True, ...,  True,  True,  True]]],\n",
       "  fill_value=255,\n",
       "  dtype=uint8)"
      ]
     },
     "execution_count": 94,
     "metadata": {},
     "output_type": "execute_result"
    }
   ],
   "source": [
    "dataset.read(masked=True)  # 带掩膜的数组"
   ]
  },
  {
   "cell_type": "code",
   "execution_count": 95,
   "id": "54040ef6",
   "metadata": {},
   "outputs": [
    {
     "data": {
      "text/plain": [
       "numpy.ma.core.MaskedArray"
      ]
     },
     "execution_count": 95,
     "metadata": {},
     "output_type": "execute_result"
    }
   ],
   "source": [
    "type(dataset.read(masked=True))"
   ]
  },
  {
   "cell_type": "code",
   "execution_count": 96,
   "id": "7cee9871",
   "metadata": {},
   "outputs": [
    {
     "data": {
      "text/plain": [
       "array([[[255, 255, 255, ..., 255, 255, 255],\n",
       "        [255, 255, 255, ..., 255, 255, 255],\n",
       "        [255, 255, 255, ..., 255, 255, 255],\n",
       "        ...,\n",
       "        [255, 255, 255, ..., 255, 255, 255],\n",
       "        [255, 255, 255, ..., 255, 255, 255],\n",
       "        [255, 255, 255, ..., 255, 255, 255]],\n",
       "\n",
       "       [[255, 255, 255, ..., 255, 255, 255],\n",
       "        [255, 255, 255, ..., 255, 255, 255],\n",
       "        [255, 255, 255, ..., 255, 255, 255],\n",
       "        ...,\n",
       "        [255, 255, 255, ..., 255, 255, 255],\n",
       "        [255, 255, 255, ..., 255, 255, 255],\n",
       "        [255, 255, 255, ..., 255, 255, 255]],\n",
       "\n",
       "       [[255, 255, 255, ..., 255, 255, 255],\n",
       "        [255, 255, 255, ..., 255, 255, 255],\n",
       "        [255, 255, 255, ..., 255, 255, 255],\n",
       "        ...,\n",
       "        [255, 255, 255, ..., 255, 255, 255],\n",
       "        [255, 255, 255, ..., 255, 255, 255],\n",
       "        [255, 255, 255, ..., 255, 255, 255]]], dtype=uint8)"
      ]
     },
     "execution_count": 96,
     "metadata": {},
     "output_type": "execute_result"
    }
   ],
   "source": [
    "dataset.read()  # 不带掩膜，需要自己处理无效值"
   ]
  },
  {
   "cell_type": "code",
   "execution_count": 97,
   "id": "25cf5812",
   "metadata": {},
   "outputs": [
    {
     "data": {
      "text/plain": [
       "(3, 9856, 14505)"
      ]
     },
     "execution_count": 97,
     "metadata": {},
     "output_type": "execute_result"
    }
   ],
   "source": [
    "dataset.read().shape  # c * h * w"
   ]
  },
  {
   "cell_type": "code",
   "execution_count": null,
   "id": "2c03acdf",
   "metadata": {},
   "outputs": [],
   "source": [
    "dataset.close()  # 关闭与文件的连接（底层的 C 库 GDAL 释放资源）"
   ]
  },
  {
   "cell_type": "markdown",
   "id": "55659005",
   "metadata": {},
   "source": [
    "- 自动关闭\n",
    "```\n",
    "with rasterio.open('path') as dataset:\n",
    "    data = dataset.read(1)\n",
    "```\n",
    "- 此时 dataset 自动关闭，不能再用 dataset.read()\n"
   ]
  }
 ],
 "metadata": {
  "kernelspec": {
   "display_name": "skimage",
   "language": "python",
   "name": "python3"
  },
  "language_info": {
   "codemirror_mode": {
    "name": "ipython",
    "version": 3
   },
   "file_extension": ".py",
   "mimetype": "text/x-python",
   "name": "python",
   "nbconvert_exporter": "python",
   "pygments_lexer": "ipython3",
   "version": "3.10.15"
  }
 },
 "nbformat": 4,
 "nbformat_minor": 5
}
